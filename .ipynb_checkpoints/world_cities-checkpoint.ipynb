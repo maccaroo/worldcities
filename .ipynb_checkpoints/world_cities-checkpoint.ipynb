{
 "cells": [
  {
   "cell_type": "markdown",
   "metadata": {},
   "source": [
    "# The world's most remote country capital\n",
    "### Your challenge is to find the world's most remote country capital.\n",
    "\n",
    "Find a list of countries and their capitals and the longitude and latitude of the capital. Decide on a way to measure the remoteness of a capital. For example, you could use the distance to its nearest country capital. Or, if that's too rough, something a bit more sophisticated.\n",
    "\n",
    "Keep in mind that the capitals lie on a curved surface, so to calculate distances you will have to use something like the **Haversine formula**.\n",
    "\n",
    "You might need to make some decisions. For example, it might not be clear whether certain territories count as countries, or what should be counted as the capital of some countries. Clearly explain any decisions you make."
   ]
  },
  {
   "cell_type": "code",
   "execution_count": 1,
   "metadata": {},
   "outputs": [],
   "source": [
    "import pandas as pd\n",
    "pd.options.mode.chained_assignment = None  # default='warn'\n",
    "pd.options.display.float_format = '{:,.2f}'.format\n",
    "\n",
    "# Acquired from https://www.kaggle.com/viswanathanc/world-cities-datasets\n",
    "df = pd.read_csv('worldcities.csv')\n",
    "#print(df.head())"
   ]
  },
  {
   "cell_type": "code",
   "execution_count": 2,
   "metadata": {},
   "outputs": [],
   "source": [
    "from math import pi, sin, cos, atan2, sqrt\n",
    "\n",
    "def haversine(lat1, lon1, lat2, lon2):\n",
    "    '''Taken from https://www.movable-type.co.uk/scripts/latlong.html'''\n",
    "    R = 6371*10**3 # metres\n",
    "    φ1 = lat1 * pi/180 # φ, λ in radians\n",
    "    φ2 = lat2 * pi/180\n",
    "    Δφ = (lat2-lat1) * pi/180\n",
    "    Δλ = (lon2-lon1) * pi/180\n",
    "    \n",
    "    a = sin(Δφ/2) * sin(Δφ/2) + cos(φ1) * cos(φ2) * sin(Δλ/2) * sin(Δλ/2)\n",
    "    c = 2 * atan2(sqrt(a), sqrt(1-a))\n",
    "    d = R * c; # in metres\n",
    "    return d/1000 # in kms"
   ]
  },
  {
   "cell_type": "code",
   "execution_count": 3,
   "metadata": {},
   "outputs": [],
   "source": [
    "capitals = df[df['capital'] == 'primary']\n",
    "capitals = capitals[['city','lat','lng']]"
   ]
  },
  {
   "cell_type": "code",
   "execution_count": 5,
   "metadata": {},
   "outputs": [
    {
     "name": "stdout",
     "output_type": "stream",
     "text": [
      "         city    lat    lng  closest\n",
      "0    Canberra -35.28 149.13 2,326.96\n",
      "1  Wellington -41.30 174.78 2,326.96\n",
      "2        Dili  -8.56 125.58 1,904.68\n",
      "3   Reykjavík  64.15 -21.95 1,497.12\n",
      "4    Brasília -15.78 -47.92 1,463.15\n"
     ]
    }
   ],
   "source": [
    "# Iterate over rows, comparing each row to the rest, looking for the minimum distance\n",
    "capitals['closest'] = 99999999\n",
    "for idx, row_x in capitals.iterrows():\n",
    "    capitals['closest'] = capitals.apply(lambda row_y: \n",
    "                                 min(row_y['closest'], haversine(row_x['lat'],row_x['lng'],row_y['lat'],row_y['lng'])\n",
    "                                 if row_x['city'] != row_y['city']\n",
    "                                 else row_y['closest']\n",
    "                                ), axis=1)\n",
    "\n",
    "capitals = capitals.sort_values(by='closest', ascending=False)\n",
    "capitals.reset_index(drop=True, inplace=True)\n",
    "print(capitals.head())"
   ]
  },
  {
   "cell_type": "code",
   "execution_count": null,
   "metadata": {},
   "outputs": [],
   "source": []
  }
 ],
 "metadata": {
  "kernelspec": {
   "display_name": "Python 3",
   "language": "python",
   "name": "python3"
  },
  "language_info": {
   "codemirror_mode": {
    "name": "ipython",
    "version": 3
   },
   "file_extension": ".py",
   "mimetype": "text/x-python",
   "name": "python",
   "nbconvert_exporter": "python",
   "pygments_lexer": "ipython3",
   "version": "3.7.4"
  }
 },
 "nbformat": 4,
 "nbformat_minor": 2
}
